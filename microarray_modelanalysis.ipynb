{
 "cells": [
  {
   "cell_type": "code",
   "execution_count": 1,
   "id": "39c0571a",
   "metadata": {},
   "outputs": [],
   "source": [
    "import pandas as pd\n",
    "import numpy as np\n",
    "import scipy.stats as stats\n",
    "import matplotlib.pyplot as plt\n",
    "import seaborn as sns\n",
    "\n",
    "import random\n",
    "\n",
    "from sklearn.preprocessing import LabelEncoder, StandardScaler\n",
    "from sklearn.feature_selection import mutual_info_classif\n",
    "#from sklearn.model_selection import StratifiedKFold\n",
    "from sklearn.pipeline import Pipeline\n",
    "from sklearn.svm import SVC"
   ]
  },
  {
   "cell_type": "code",
   "execution_count": 2,
   "id": "43485619",
   "metadata": {},
   "outputs": [
    {
     "name": "stdout",
     "output_type": "stream",
     "text": [
      "Mean Score: 0.6249373529411764\n",
      "Median Score: 0.6176470588235294\n"
     ]
    }
   ],
   "source": [
    "# distribution of scores from random choice of 5 features\n",
    "scores=[]\n",
    "# load data\n",
    "trainx = pd.read_csv('microarray_train.csv', index_col=0)\n",
    "trainy = trainx.pop('cancer')\n",
    "\n",
    "testx = pd.read_csv('microarray_test.csv', index_col=0)\n",
    "testy = testx.pop('cancer')\n",
    "\n",
    "for i in range(10**5):\n",
    "    # pick random features\n",
    "    randfeat = random.sample(list(trainx.columns), 5)\n",
    "    train = trainx[randfeat]\n",
    "    test = testx[randfeat]\n",
    "    #print(f'shape after features selected: {train.shape}')\n",
    "    #print(randfeat)\n",
    "    #print(test.head())\n",
    "\n",
    "    # model pipeline\n",
    "    svcpipe = Pipeline([\n",
    "        ('scaler', StandardScaler()),\n",
    "        ('svc', SVC(C=1, class_weight='balanced'))\n",
    "    ])   \n",
    "\n",
    "    svcpipe.fit(train, trainy)\n",
    "    scores.append(svcpipe.score(test, testy))\n",
    "    \n",
    "print(f'Mean Score: {np.mean(scores)}')\n",
    "print(f'Median Score: {np.median(scores)}')"
   ]
  },
  {
   "cell_type": "code",
   "execution_count": 3,
   "id": "c6fc7394",
   "metadata": {},
   "outputs": [
    {
     "data": {
      "text/plain": [
       "(array([1.4000e+01, 7.5000e+01, 3.9900e+02, 1.6810e+03, 5.0790e+03,\n",
       "        4.7810e+03, 1.5987e+04, 2.4307e+04, 2.4234e+04, 8.8580e+03,\n",
       "        9.8440e+03, 3.4730e+03, 1.0350e+03, 2.2000e+02, 1.3000e+01]),\n",
       " array([0.20588235, 0.25882353, 0.31176471, 0.36470588, 0.41764706,\n",
       "        0.47058824, 0.52352941, 0.57647059, 0.62941176, 0.68235294,\n",
       "        0.73529412, 0.78823529, 0.84117647, 0.89411765, 0.94705882,\n",
       "        1.        ]),\n",
       " <BarContainer object of 15 artists>)"
      ]
     },
     "execution_count": 3,
     "metadata": {},
     "output_type": "execute_result"
    },
    {
     "data": {
      "image/png": "[encoded data removed]",
      "text/plain": [
       "<Figure size 432x288 with 1 Axes>"
      ]
     },
     "metadata": {
      "needs_background": "light"
     },
     "output_type": "display_data"
    }
   ],
   "source": [
    "plt.hist(scores, bins=15)"
   ]
  },
  {
   "cell_type": "markdown",
   "id": "6be0f47f",
   "metadata": {},
   "source": [
    "#### What about trying random choice of 5 features after initial filter?"
   ]
  },
  {
   "cell_type": "code",
   "execution_count": 4,
   "id": "a5c44f1f",
   "metadata": {},
   "outputs": [],
   "source": [
    "# create metrics df\n",
    "def generate_metrics(df,target):    \n",
    "    metrics = pd.DataFrame()\n",
    "    metrics['var'] = df.var()\n",
    "    # compute percent of intensity values > 0 for esch feature\n",
    "    metrics['pctvalpos'] = [sum(df[col]>0)/len(df[col]) for col in df.columns]\n",
    "    # compute mutual info for features\n",
    "    metrics['mi'] = mutual_info_classif(df, target, random_state=123)\n",
    "    \n",
    "    # compute regular p-values for each feature between ALL/0 and AML/1 \n",
    "    pval=[]\n",
    "    for col in df.columns:\n",
    "        pval.append(stats.ttest_ind(df.loc[target==1,col], df.loc[target==0,col], equal_var=False)[1]) # store p-val\n",
    "    metrics['pval'] = pval\n",
    "    \n",
    "    # compute adjusted p-values for each feature between ALL and AML with permutations \n",
    "    pval=[]\n",
    "    for col in df.columns:\n",
    "        pval.append(stats.ttest_ind(df.loc[target==1,col], df.loc[target==0,col], \\\n",
    "                                    permutations=2000, random_state=123,equal_var=False)[1]) # store p-val\n",
    "    metrics['adj_pval'] = pval    \n",
    "\n",
    "    return metrics\n",
    "\n",
    "#met = generate_metrics(train, target)\n",
    "#met.describe()\n"
   ]
  },
  {
   "cell_type": "code",
   "execution_count": 5,
   "id": "54281a62",
   "metadata": {},
   "outputs": [],
   "source": [
    "# drop features based on metrics\n",
    "def dropfeat(df, metricsdf):\n",
    "    dropcol = metricsdf[metricsdf['pctvalpos'] < 0.5].index\n",
    "    #dropcol = metricsdf[metricsdf['adj_pval'] > 0.01].index\n",
    "    dropcol = dropcol.append(metricsdf[metricsdf['adj_pval'] > 0.0006].index)\n",
    "    #dropcol = dropcol.append(metricsdf[metricsdf['pval'] > 0.001].index)\n",
    "    dropcol = dropcol.append(metricsdf[metricsdf['mi'] < 0.4].index)\n",
    "    \n",
    "    dropcol = dropcol.unique()\n",
    "    df = df.drop(dropcol, axis=1)\n",
    "    #print(df.shape)\n",
    "    return df"
   ]
  },
  {
   "cell_type": "code",
   "execution_count": null,
   "id": "a06ff9f1",
   "metadata": {},
   "outputs": [],
   "source": []
  },
  {
   "cell_type": "code",
   "execution_count": 6,
   "id": "3364f41e",
   "metadata": {},
   "outputs": [
    {
     "name": "stdout",
     "output_type": "stream",
     "text": [
      "classes: ['ALL' 'AML']\n",
      "shape after metrics filter: (38, 12)\n",
      "Mean Score: 0.8917126470588237\n"
     ]
    }
   ],
   "source": [
    "# distribution of scores from random choice of 5 features after metrics filter, but before correlation step\n",
    "trainx = pd.read_csv('microarray_train.csv', index_col=0)\n",
    "trainy = trainx.pop('cancer')\n",
    "\n",
    "testx = pd.read_csv('microarray_test.csv', index_col=0)\n",
    "testy = testx.pop('cancer')\n",
    "\n",
    "# label encode target, ALL:0, AML:1\n",
    "le = LabelEncoder()\n",
    "trainy = le.fit_transform(trainy)\n",
    "testy = le.fit_transform(testy)\n",
    "print(f'classes: {le.classes_}')\n",
    "\n",
    "# create metrics df, drop features based on metrics\n",
    "metrics = generate_metrics(trainx, trainy)\n",
    "trainx = dropfeat(trainx, metrics)\n",
    "testx = dropfeat(testx, metrics)\n",
    "print(f'shape after metrics filter: {trainx.shape}')\n",
    "\n",
    "# find correlated features, drop features\n",
    "#corrcol = generate_corr(trainx, threshold=0.7, metricsdf=metrics)\n",
    "#trainx = trainx.drop(corrcol, axis=1)\n",
    "#testx = testx.drop(corrcol, axis=1)\n",
    "#print(f'shape after correlation filter: {trainx.shape}')\n",
    "\n",
    "scores=[]\n",
    "for i in range(10**5):\n",
    "    # pick random features\n",
    "    randfeat = random.sample(list(trainx.columns), 5)\n",
    "    train = trainx[randfeat]\n",
    "    test = testx[randfeat]\n",
    "\n",
    "\n",
    "    # model pipeline\n",
    "    svcpipe = Pipeline([\n",
    "        ('scaler', StandardScaler()),\n",
    "        ('svc', SVC(C=1, class_weight='balanced'))\n",
    "    ])   \n",
    "\n",
    "    svcpipe.fit(train, trainy)\n",
    "    scores.append(svcpipe.score(test, testy))\n",
    "    \n",
    "print(f'Mean Score: {np.mean(scores)}')"
   ]
  },
  {
   "cell_type": "code",
   "execution_count": 7,
   "id": "35147ea1",
   "metadata": {},
   "outputs": [
    {
     "data": {
      "text/plain": [
       "(array([  129.,     0.,     0.,   389.,  1404.,     0.,  6165.,     0.,\n",
       "        14840.,     0., 31477., 29654.,     0., 11945.,  3997.]),\n",
       " array([0.70588235, 0.72352941, 0.74117647, 0.75882353, 0.77647059,\n",
       "        0.79411765, 0.81176471, 0.82941176, 0.84705882, 0.86470588,\n",
       "        0.88235294, 0.9       , 0.91764706, 0.93529412, 0.95294118,\n",
       "        0.97058824]),\n",
       " <BarContainer object of 15 artists>)"
      ]
     },
     "execution_count": 7,
     "metadata": {},
     "output_type": "execute_result"
    },
    {
     "data": {
      "image/png": "[encoded data removed]",
      "text/plain": [
       "<Figure size 432x288 with 1 Axes>"
      ]
     },
     "metadata": {
      "needs_background": "light"
     },
     "output_type": "display_data"
    }
   ],
   "source": [
    "plt.hist(scores, bins=15)"
   ]
  },
  {
   "cell_type": "code",
   "execution_count": 8,
   "id": "085115bb",
   "metadata": {},
   "outputs": [
    {
     "data": {
      "text/plain": [
       "Index(['D10495_at', 'D88422_at', 'M21551_rna1_at', 'M27891_at', 'M31166_at',\n",
       "       'M55150_at', 'M77142_at', 'U50136_rna1_at', 'X95735_at', 'Y12670_at',\n",
       "       'L09209_s_at', 'M27783_s_at'],\n",
       "      dtype='object')"
      ]
     },
     "execution_count": 8,
     "metadata": {},
     "output_type": "execute_result"
    }
   ],
   "source": [
    "# remaining features\n",
    "trainx.columns"
   ]
  },
  {
   "cell_type": "code",
   "execution_count": 9,
   "id": "823a0b29",
   "metadata": {},
   "outputs": [
    {
     "name": "stdout",
     "output_type": "stream",
     "text": [
      "[172, 759, 1806, 1881, 1925, 2019, 2232, 3319, 4846, 5038, 6040, 6217]\n"
     ]
    },
    {
     "data": {
      "text/html": [
       "<div>\n",
       "<style scoped>\n",
       "    .dataframe tbody tr th:only-of-type {\n",
       "        vertical-align: middle;\n",
       "    }\n",
       "\n",
       "    .dataframe tbody tr th {\n",
       "        vertical-align: top;\n",
       "    }\n",
       "\n",
       "    .dataframe thead th {\n",
       "        text-align: right;\n",
       "    }\n",
       "</style>\n",
       "<table border=\"1\" class=\"dataframe\">\n",
       "  <thead>\n",
       "    <tr style=\"text-align: right;\">\n",
       "      <th></th>\n",
       "      <th>Gene Description</th>\n",
       "      <th>Gene Accession Number</th>\n",
       "    </tr>\n",
       "  </thead>\n",
       "  <tbody>\n",
       "    <tr>\n",
       "      <th>172</th>\n",
       "      <td>PRKCD Protein kinase C; delta</td>\n",
       "      <td>D10495_at</td>\n",
       "    </tr>\n",
       "    <tr>\n",
       "      <th>759</th>\n",
       "      <td>CYSTATIN A</td>\n",
       "      <td>D88422_at</td>\n",
       "    </tr>\n",
       "    <tr>\n",
       "      <th>1806</th>\n",
       "      <td>Neuromedin B mRNA</td>\n",
       "      <td>M21551_rna1_at</td>\n",
       "    </tr>\n",
       "    <tr>\n",
       "      <th>1881</th>\n",
       "      <td>CST3 Cystatin C (amyloid angiopathy and cerebr...</td>\n",
       "      <td>M27891_at</td>\n",
       "    </tr>\n",
       "    <tr>\n",
       "      <th>1925</th>\n",
       "      <td>PTX3 Pentaxin-related gene; rapidly induced by...</td>\n",
       "      <td>M31166_at</td>\n",
       "    </tr>\n",
       "    <tr>\n",
       "      <th>2019</th>\n",
       "      <td>FAH Fumarylacetoacetate</td>\n",
       "      <td>M55150_at</td>\n",
       "    </tr>\n",
       "    <tr>\n",
       "      <th>2232</th>\n",
       "      <td>NUCLEOLYSIN TIA-1</td>\n",
       "      <td>M77142_at</td>\n",
       "    </tr>\n",
       "    <tr>\n",
       "      <th>3319</th>\n",
       "      <td>Leukotriene C4 synthase (LTC4S) gene</td>\n",
       "      <td>U50136_rna1_at</td>\n",
       "    </tr>\n",
       "    <tr>\n",
       "      <th>4846</th>\n",
       "      <td>Zyxin</td>\n",
       "      <td>X95735_at</td>\n",
       "    </tr>\n",
       "    <tr>\n",
       "      <th>5038</th>\n",
       "      <td>LEPR Leptin receptor</td>\n",
       "      <td>Y12670_at</td>\n",
       "    </tr>\n",
       "    <tr>\n",
       "      <th>6040</th>\n",
       "      <td>APLP2 Amyloid beta (A4) precursor-like protein 2</td>\n",
       "      <td>L09209_s_at</td>\n",
       "    </tr>\n",
       "    <tr>\n",
       "      <th>6217</th>\n",
       "      <td>ELA2 Elastatse 2; neutrophil</td>\n",
       "      <td>M27783_s_at</td>\n",
       "    </tr>\n",
       "  </tbody>\n",
       "</table>\n",
       "</div>"
      ],
      "text/plain": [
       "                                       Gene Description Gene Accession Number\n",
       "172                       PRKCD Protein kinase C; delta             D10495_at\n",
       "759                                          CYSTATIN A             D88422_at\n",
       "1806                                  Neuromedin B mRNA        M21551_rna1_at\n",
       "1881  CST3 Cystatin C (amyloid angiopathy and cerebr...             M27891_at\n",
       "1925  PTX3 Pentaxin-related gene; rapidly induced by...             M31166_at\n",
       "2019                            FAH Fumarylacetoacetate             M55150_at\n",
       "2232                                  NUCLEOLYSIN TIA-1             M77142_at\n",
       "3319               Leukotriene C4 synthase (LTC4S) gene        U50136_rna1_at\n",
       "4846                                              Zyxin             X95735_at\n",
       "5038                               LEPR Leptin receptor             Y12670_at\n",
       "6040   APLP2 Amyloid beta (A4) precursor-like protein 2           L09209_s_at\n",
       "6217                       ELA2 Elastatse 2; neutrophil           M27783_s_at"
      ]
     },
     "execution_count": 9,
     "metadata": {},
     "output_type": "execute_result"
    }
   ],
   "source": [
    "# gene descriptions of remaining features\n",
    "gene_info = pd.read_csv('gene_info.csv', index_col=0)\n",
    "#gene_info.head()\n",
    "geneidx=[]\n",
    "for genenum in trainx.columns:\n",
    "    mask = gene_info['Gene Accession Number'].str.match(genenum)\n",
    "    geneidx.append(list(gene_info[mask].index)[0])\n",
    "    \n",
    "print(geneidx)\n",
    "gene_info.iloc[geneidx,:]"
   ]
  }
 ],
 "metadata": {
  "kernelspec": {
   "display_name": "Python 3 (ipykernel)",
   "language": "python",
   "name": "python3"
  },
  "language_info": {
   "codemirror_mode": {
    "name": "ipython",
    "version": 3
   },
   "file_extension": ".py",
   "mimetype": "text/x-python",
   "name": "python",
   "nbconvert_exporter": "python",
   "pygments_lexer": "ipython3",
   "version": "3.8.3"
  }
 },
 "nbformat": 4,
 "nbformat_minor": 5
}
