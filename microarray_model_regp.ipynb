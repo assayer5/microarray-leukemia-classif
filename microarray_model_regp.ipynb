{
 "cells": [
  {
   "cell_type": "code",
   "execution_count": 1,
   "id": "ca8269e5",
   "metadata": {},
   "outputs": [],
   "source": [
    "import pandas as pd\n",
    "import numpy as np\n",
    "import scipy.stats as stats\n",
    "import matplotlib.pyplot as plt\n",
    "import seaborn as sns\n",
    "\n",
    "from sklearn.preprocessing import LabelEncoder, StandardScaler\n",
    "from sklearn.feature_selection import mutual_info_classif\n",
    "from sklearn.model_selection import StratifiedKFold\n",
    "from sklearn.pipeline import Pipeline\n",
    "from sklearn.svm import SVC"
   ]
  },
  {
   "cell_type": "code",
   "execution_count": 2,
   "id": "f3a5522d",
   "metadata": {},
   "outputs": [
    {
     "name": "stdout",
     "output_type": "stream",
     "text": [
      "(38, 7129)\n"
     ]
    },
    {
     "data": {
      "text/html": [
       "<div>\n",
       "<style scoped>\n",
       "    .dataframe tbody tr th:only-of-type {\n",
       "        vertical-align: middle;\n",
       "    }\n",
       "\n",
       "    .dataframe tbody tr th {\n",
       "        vertical-align: top;\n",
       "    }\n",
       "\n",
       "    .dataframe thead th {\n",
       "        text-align: right;\n",
       "    }\n",
       "</style>\n",
       "<table border=\"1\" class=\"dataframe\">\n",
       "  <thead>\n",
       "    <tr style=\"text-align: right;\">\n",
       "      <th></th>\n",
       "      <th>AFFX-BioB-5_at</th>\n",
       "      <th>AFFX-BioB-M_at</th>\n",
       "      <th>AFFX-BioB-3_at</th>\n",
       "      <th>AFFX-BioC-5_at</th>\n",
       "      <th>AFFX-BioC-3_at</th>\n",
       "      <th>AFFX-BioDn-5_at</th>\n",
       "      <th>AFFX-BioDn-3_at</th>\n",
       "      <th>AFFX-CreX-5_at</th>\n",
       "      <th>AFFX-CreX-3_at</th>\n",
       "      <th>AFFX-BioB-5_st</th>\n",
       "      <th>...</th>\n",
       "      <th>U48730_at</th>\n",
       "      <th>U58516_at</th>\n",
       "      <th>U73738_at</th>\n",
       "      <th>X06956_at</th>\n",
       "      <th>X16699_at</th>\n",
       "      <th>X83863_at</th>\n",
       "      <th>Z17240_at</th>\n",
       "      <th>L49218_f_at</th>\n",
       "      <th>M71243_f_at</th>\n",
       "      <th>Z78285_f_at</th>\n",
       "    </tr>\n",
       "  </thead>\n",
       "  <tbody>\n",
       "    <tr>\n",
       "      <th>0</th>\n",
       "      <td>-214</td>\n",
       "      <td>-153</td>\n",
       "      <td>-58</td>\n",
       "      <td>88</td>\n",
       "      <td>-295</td>\n",
       "      <td>-558</td>\n",
       "      <td>199</td>\n",
       "      <td>-176</td>\n",
       "      <td>252</td>\n",
       "      <td>206</td>\n",
       "      <td>...</td>\n",
       "      <td>185</td>\n",
       "      <td>511</td>\n",
       "      <td>-125</td>\n",
       "      <td>389</td>\n",
       "      <td>-37</td>\n",
       "      <td>793</td>\n",
       "      <td>329</td>\n",
       "      <td>36</td>\n",
       "      <td>191</td>\n",
       "      <td>-37</td>\n",
       "    </tr>\n",
       "    <tr>\n",
       "      <th>1</th>\n",
       "      <td>-139</td>\n",
       "      <td>-73</td>\n",
       "      <td>-1</td>\n",
       "      <td>283</td>\n",
       "      <td>-264</td>\n",
       "      <td>-400</td>\n",
       "      <td>-330</td>\n",
       "      <td>-168</td>\n",
       "      <td>101</td>\n",
       "      <td>74</td>\n",
       "      <td>...</td>\n",
       "      <td>169</td>\n",
       "      <td>837</td>\n",
       "      <td>-36</td>\n",
       "      <td>442</td>\n",
       "      <td>-17</td>\n",
       "      <td>782</td>\n",
       "      <td>295</td>\n",
       "      <td>11</td>\n",
       "      <td>76</td>\n",
       "      <td>-14</td>\n",
       "    </tr>\n",
       "    <tr>\n",
       "      <th>2</th>\n",
       "      <td>-76</td>\n",
       "      <td>-49</td>\n",
       "      <td>-307</td>\n",
       "      <td>309</td>\n",
       "      <td>-376</td>\n",
       "      <td>-650</td>\n",
       "      <td>33</td>\n",
       "      <td>-367</td>\n",
       "      <td>206</td>\n",
       "      <td>-215</td>\n",
       "      <td>...</td>\n",
       "      <td>315</td>\n",
       "      <td>1199</td>\n",
       "      <td>33</td>\n",
       "      <td>168</td>\n",
       "      <td>52</td>\n",
       "      <td>1138</td>\n",
       "      <td>777</td>\n",
       "      <td>41</td>\n",
       "      <td>228</td>\n",
       "      <td>-41</td>\n",
       "    </tr>\n",
       "    <tr>\n",
       "      <th>3</th>\n",
       "      <td>-135</td>\n",
       "      <td>-114</td>\n",
       "      <td>265</td>\n",
       "      <td>12</td>\n",
       "      <td>-419</td>\n",
       "      <td>-585</td>\n",
       "      <td>158</td>\n",
       "      <td>-253</td>\n",
       "      <td>49</td>\n",
       "      <td>31</td>\n",
       "      <td>...</td>\n",
       "      <td>240</td>\n",
       "      <td>835</td>\n",
       "      <td>218</td>\n",
       "      <td>174</td>\n",
       "      <td>-110</td>\n",
       "      <td>627</td>\n",
       "      <td>170</td>\n",
       "      <td>-50</td>\n",
       "      <td>126</td>\n",
       "      <td>-91</td>\n",
       "    </tr>\n",
       "    <tr>\n",
       "      <th>4</th>\n",
       "      <td>-106</td>\n",
       "      <td>-125</td>\n",
       "      <td>-76</td>\n",
       "      <td>168</td>\n",
       "      <td>-230</td>\n",
       "      <td>-284</td>\n",
       "      <td>4</td>\n",
       "      <td>-122</td>\n",
       "      <td>70</td>\n",
       "      <td>252</td>\n",
       "      <td>...</td>\n",
       "      <td>156</td>\n",
       "      <td>649</td>\n",
       "      <td>57</td>\n",
       "      <td>504</td>\n",
       "      <td>-26</td>\n",
       "      <td>250</td>\n",
       "      <td>314</td>\n",
       "      <td>14</td>\n",
       "      <td>56</td>\n",
       "      <td>-25</td>\n",
       "    </tr>\n",
       "  </tbody>\n",
       "</table>\n",
       "<p>5 rows × 7129 columns</p>\n",
       "</div>"
      ],
      "text/plain": [
       "   AFFX-BioB-5_at  AFFX-BioB-M_at  AFFX-BioB-3_at  AFFX-BioC-5_at  \\\n",
       "0            -214            -153             -58              88   \n",
       "1            -139             -73              -1             283   \n",
       "2             -76             -49            -307             309   \n",
       "3            -135            -114             265              12   \n",
       "4            -106            -125             -76             168   \n",
       "\n",
       "   AFFX-BioC-3_at  AFFX-BioDn-5_at  AFFX-BioDn-3_at  AFFX-CreX-5_at  \\\n",
       "0            -295             -558              199            -176   \n",
       "1            -264             -400             -330            -168   \n",
       "2            -376             -650               33            -367   \n",
       "3            -419             -585              158            -253   \n",
       "4            -230             -284                4            -122   \n",
       "\n",
       "   AFFX-CreX-3_at  AFFX-BioB-5_st  ...  U48730_at  U58516_at  U73738_at  \\\n",
       "0             252             206  ...        185        511       -125   \n",
       "1             101              74  ...        169        837        -36   \n",
       "2             206            -215  ...        315       1199         33   \n",
       "3              49              31  ...        240        835        218   \n",
       "4              70             252  ...        156        649         57   \n",
       "\n",
       "   X06956_at  X16699_at  X83863_at  Z17240_at  L49218_f_at  M71243_f_at  \\\n",
       "0        389        -37        793        329           36          191   \n",
       "1        442        -17        782        295           11           76   \n",
       "2        168         52       1138        777           41          228   \n",
       "3        174       -110        627        170          -50          126   \n",
       "4        504        -26        250        314           14           56   \n",
       "\n",
       "   Z78285_f_at  \n",
       "0          -37  \n",
       "1          -14  \n",
       "2          -41  \n",
       "3          -91  \n",
       "4          -25  \n",
       "\n",
       "[5 rows x 7129 columns]"
      ]
     },
     "execution_count": 2,
     "metadata": {},
     "output_type": "execute_result"
    }
   ],
   "source": [
    "# load train data\n",
    "train = pd.read_csv('microarray_train.csv', index_col=0)\n",
    "\n",
    "# seprate target from features\n",
    "target = train.pop('cancer')\n",
    "print(train.shape)\n",
    "train.head()"
   ]
  },
  {
   "cell_type": "code",
   "execution_count": 3,
   "id": "0cd85143",
   "metadata": {},
   "outputs": [
    {
     "name": "stdout",
     "output_type": "stream",
     "text": [
      "['ALL' 'AML']\n"
     ]
    }
   ],
   "source": [
    "# label encode target, ALL:0, AML:1\n",
    "le = LabelEncoder()\n",
    "target = le.fit_transform(target)\n",
    "print(le.classes_)"
   ]
  },
  {
   "cell_type": "markdown",
   "id": "e928829d",
   "metadata": {},
   "source": [
    "#### Baseline Model"
   ]
  },
  {
   "cell_type": "code",
   "execution_count": 4,
   "id": "a1c39492",
   "metadata": {},
   "outputs": [
    {
     "name": "stdout",
     "output_type": "stream",
     "text": [
      "Scores: [0.75, 0.75, 0.625, 0.7142857142857143, 0.7142857142857143]\n"
     ]
    }
   ],
   "source": [
    "# baseline\n",
    "\n",
    "# stratified 5 fold split of data\n",
    "skf = StratifiedKFold(n_splits=5)\n",
    "scores = []\n",
    "for trainidx, testidx in skf.split(train, target):\n",
    "    trainx, trainy = train.loc[trainidx, :], target[trainidx]\n",
    "    testx, testy = train.loc[testidx], target[testidx]\n",
    "    \n",
    "    svcpipe = Pipeline([\n",
    "        ('scaler', StandardScaler()),\n",
    "        ('svc', SVC(C=1))\n",
    "    ])\n",
    "    \n",
    "    svcpipe.fit(trainx, trainy)\n",
    "    scores.append(svcpipe.score(testx, testy))\n",
    "    \n",
    "print(f'Scores: {scores}')"
   ]
  },
  {
   "cell_type": "code",
   "execution_count": 5,
   "id": "255e347d",
   "metadata": {
    "scrolled": true
   },
   "outputs": [
    {
     "data": {
      "text/html": [
       "<div>\n",
       "<style scoped>\n",
       "    .dataframe tbody tr th:only-of-type {\n",
       "        vertical-align: middle;\n",
       "    }\n",
       "\n",
       "    .dataframe tbody tr th {\n",
       "        vertical-align: top;\n",
       "    }\n",
       "\n",
       "    .dataframe thead th {\n",
       "        text-align: right;\n",
       "    }\n",
       "</style>\n",
       "<table border=\"1\" class=\"dataframe\">\n",
       "  <thead>\n",
       "    <tr style=\"text-align: right;\">\n",
       "      <th></th>\n",
       "      <th>var</th>\n",
       "      <th>pctvalpos</th>\n",
       "      <th>mi</th>\n",
       "      <th>pval</th>\n",
       "    </tr>\n",
       "  </thead>\n",
       "  <tbody>\n",
       "    <tr>\n",
       "      <th>count</th>\n",
       "      <td>7.129000e+03</td>\n",
       "      <td>7129.000000</td>\n",
       "      <td>7129.000000</td>\n",
       "      <td>7.129000e+03</td>\n",
       "    </tr>\n",
       "    <tr>\n",
       "      <th>mean</th>\n",
       "      <td>6.820928e+05</td>\n",
       "      <td>0.712394</td>\n",
       "      <td>0.053071</td>\n",
       "      <td>3.426886e-01</td>\n",
       "    </tr>\n",
       "    <tr>\n",
       "      <th>std</th>\n",
       "      <td>3.845060e+06</td>\n",
       "      <td>0.354564</td>\n",
       "      <td>0.071800</td>\n",
       "      <td>3.082058e-01</td>\n",
       "    </tr>\n",
       "    <tr>\n",
       "      <th>min</th>\n",
       "      <td>4.769018e+02</td>\n",
       "      <td>0.000000</td>\n",
       "      <td>0.000000</td>\n",
       "      <td>8.388715e-09</td>\n",
       "    </tr>\n",
       "    <tr>\n",
       "      <th>25%</th>\n",
       "      <td>8.210373e+03</td>\n",
       "      <td>0.447368</td>\n",
       "      <td>0.000000</td>\n",
       "      <td>5.578156e-02</td>\n",
       "    </tr>\n",
       "    <tr>\n",
       "      <th>50%</th>\n",
       "      <td>3.170128e+04</td>\n",
       "      <td>0.921053</td>\n",
       "      <td>0.021545</td>\n",
       "      <td>2.591065e-01</td>\n",
       "    </tr>\n",
       "    <tr>\n",
       "      <th>75%</th>\n",
       "      <td>1.295735e+05</td>\n",
       "      <td>1.000000</td>\n",
       "      <td>0.085021</td>\n",
       "      <td>5.888123e-01</td>\n",
       "    </tr>\n",
       "    <tr>\n",
       "      <th>max</th>\n",
       "      <td>1.609285e+08</td>\n",
       "      <td>1.000000</td>\n",
       "      <td>0.537751</td>\n",
       "      <td>9.996315e-01</td>\n",
       "    </tr>\n",
       "  </tbody>\n",
       "</table>\n",
       "</div>"
      ],
      "text/plain": [
       "                var    pctvalpos           mi          pval\n",
       "count  7.129000e+03  7129.000000  7129.000000  7.129000e+03\n",
       "mean   6.820928e+05     0.712394     0.053071  3.426886e-01\n",
       "std    3.845060e+06     0.354564     0.071800  3.082058e-01\n",
       "min    4.769018e+02     0.000000     0.000000  8.388715e-09\n",
       "25%    8.210373e+03     0.447368     0.000000  5.578156e-02\n",
       "50%    3.170128e+04     0.921053     0.021545  2.591065e-01\n",
       "75%    1.295735e+05     1.000000     0.085021  5.888123e-01\n",
       "max    1.609285e+08     1.000000     0.537751  9.996315e-01"
      ]
     },
     "execution_count": 5,
     "metadata": {},
     "output_type": "execute_result"
    }
   ],
   "source": [
    "# create metrics df\n",
    "def generate_metrics(df,target):    \n",
    "    metrics = pd.DataFrame()\n",
    "    metrics['var'] = df.var()\n",
    "    # compute percent of intensity values > 0 for esch feature\n",
    "    metrics['pctvalpos'] = [sum(df[col]>0)/len(df[col]) for col in df.columns]\n",
    "    # compute mutual info for features\n",
    "    metrics['mi'] = mutual_info_classif(df, target, random_state=123)\n",
    "    \n",
    "    # compute regular p-values for each feature between ALL/0 and AML/1 \n",
    "    pval=[]\n",
    "    for col in df.columns:\n",
    "        pval.append(stats.ttest_ind(df.loc[target==1,col], df.loc[target==0,col], equal_var=False)[1]) # store p-val\n",
    "    metrics['pval'] = pval\n",
    "    \n",
    "    # compute adjusted p-values for each feature between ALL and AML with permutations \n",
    "    #pval=[]\n",
    "    #for col in df.columns:\n",
    "    #    pval.append(stats.ttest_ind(df.loc[target==1,col], df.loc[target==0,col], \\\n",
    "    #                                permutations=1000, random_state=123,equal_var=False)[1]) # store p-val\n",
    "    #metrics['adj_pval'] = pval    \n",
    "\n",
    "    return metrics\n",
    "\n",
    "met = generate_metrics(train, target)\n",
    "met.describe()\n"
   ]
  },
  {
   "cell_type": "code",
   "execution_count": 6,
   "id": "5fb49118",
   "metadata": {},
   "outputs": [],
   "source": [
    "# drop features based on metrics\n",
    "def dropfeat(df, metricsdf):\n",
    "    dropcol = metricsdf[metricsdf['pctvalpos'] < 0.5].index\n",
    "    #dropcol = metricsdf[metricsdf['adj_pval'] > 0.01].index\n",
    "    #dropcol = dropcol.append(metricsdf[metricsdf['adj_pval'] > 0.001].index)\n",
    "    dropcol = dropcol.append(metricsdf[metricsdf['pval'] > 0.001].index)\n",
    "    dropcol = dropcol.append(metricsdf[metricsdf['mi'] < 0.3].index)\n",
    "    \n",
    "    dropcol = dropcol.unique()\n",
    "    df = df.drop(dropcol, axis=1)\n",
    "    #print(df.shape)\n",
    "    return df"
   ]
  },
  {
   "cell_type": "code",
   "execution_count": 7,
   "id": "921eb388",
   "metadata": {},
   "outputs": [],
   "source": [
    "# generate list of correlated features to drop\n",
    "def generate_corr(df, threshold, metricsdf):\n",
    "    # set cut off threshold\n",
    "    threshold = threshold\n",
    "    # compute correlation matrix, take absolute value \n",
    "    corrmat = df.corr().abs() \n",
    "    \n",
    "    # find feature pairs with correlation coefficients above threshold\n",
    "    r = []\n",
    "    c = []\n",
    "    coeff = []\n",
    "    for row in range(len(corrmat.columns)):\n",
    "        for col in range(row): # stops at diagonal\n",
    "            # check if above threshold\n",
    "            if corrmat.iloc[row,col] >= threshold:\n",
    "                # store row, column, coefficient\n",
    "                r.append(row)\n",
    "                c.append(col)\n",
    "                coeff.append(corrmat.iloc[row,col])\n",
    "                \n",
    "    # make df with row and col pairs sorted by correlation coefficient\n",
    "    corrdf = pd.DataFrame()\n",
    "    corrdf['r'] = r\n",
    "    corrdf['c'] = c\n",
    "    corrdf['coeff'] = coeff\n",
    "    #print(corrdf)\n",
    "    # sort by coefficient\n",
    "    corrdf = corrdf.sort_values(by=['coeff'], ascending=False)\n",
    "    #print(corrdf)\n",
    "    \n",
    "    # choose correlated features to drop based on p-value\n",
    "    corrcol = []\n",
    "    for entry in range(len(corrdf)):\n",
    "        row = corrdf.loc[entry,'r']\n",
    "        col = corrdf.loc[entry,'c']\n",
    "        # check which has higher mi score, if already in corrcol\n",
    "        if metrics.loc[corrmat.columns[col],'pval'] > metrics.loc[corrmat.columns[row],'pval'] \\\n",
    "        and (corrmat.columns[col] not in corrcol):\n",
    "            # add to corrcol list\n",
    "            corrcol.append(corrmat.columns[col])\n",
    "        elif metrics.loc[corrmat.columns[col],'pval'] < metrics.loc[corrmat.columns[row],'pval'] \\\n",
    "        and (corrmat.columns[row] not in corrcol):\n",
    "            corrcol.append(corrmat.columns[row])\n",
    "            \n",
    "    return corrcol\n",
    "#trainx = trainx.drop(corrcol, axis=1)\n"
   ]
  },
  {
   "cell_type": "code",
   "execution_count": 8,
   "id": "431e4dec",
   "metadata": {
    "scrolled": true
   },
   "outputs": [
    {
     "name": "stdout",
     "output_type": "stream",
     "text": [
      "(30, 12)\n",
      "(30, 8)\n",
      "(30, 15)\n",
      "(31, 12)\n",
      "(31, 13)\n",
      "Scores: [1.0, 0.875, 0.875, 1.0, 1.0]\n"
     ]
    }
   ],
   "source": [
    "# stratified 5 fold split of data\n",
    "skf = StratifiedKFold(n_splits=5)\n",
    "scores = []\n",
    "for trainidx, testidx in skf.split(train, target):\n",
    "    trainx, trainy = train.loc[trainidx, :], target[trainidx]\n",
    "    testx, testy = train.loc[testidx], target[testidx]\n",
    "    \n",
    "    # create metrics df, drop features based on metrics\n",
    "    metrics = generate_metrics(trainx, trainy)\n",
    "    trainx = dropfeat(trainx, metrics)\n",
    "    testx = dropfeat(testx, metrics)\n",
    "    #print(trainx.shape)\n",
    "    \n",
    "    # find correlated features, drop features\n",
    "    corrcol = generate_corr(trainx, threshold=0.7, metricsdf=metrics)\n",
    "    trainx = trainx.drop(corrcol, axis=1)\n",
    "    testx = testx.drop(corrcol, axis=1)\n",
    "    print(trainx.shape)\n",
    "    \n",
    "    # model pipeline\n",
    "    svcpipe = Pipeline([\n",
    "        ('scaler', StandardScaler()),\n",
    "        #('svc', SVC(C=1)),\n",
    "        ('svc', SVC(C=1, class_weight='balanced'))\n",
    "    ])   \n",
    "    \n",
    "    svcpipe.fit(trainx, trainy)\n",
    "    scores.append(svcpipe.score(testx, testy))\n",
    "    \n",
    "print(f'Scores: {scores}')"
   ]
  },
  {
   "cell_type": "code",
   "execution_count": 9,
   "id": "93c4ca33",
   "metadata": {},
   "outputs": [
    {
     "name": "stdout",
     "output_type": "stream",
     "text": [
      "(13, 13)\n"
     ]
    },
    {
     "data": {
      "text/plain": [
       "<AxesSubplot:>"
      ]
     },
     "execution_count": 9,
     "metadata": {},
     "output_type": "execute_result"
    },
    {
     "data": {
      "image/png": "[encoded data removed]",
      "text/plain": [
       "<Figure size 432x288 with 2 Axes>"
      ]
     },
     "metadata": {
      "needs_background": "light"
     },
     "output_type": "display_data"
    }
   ],
   "source": [
    "# check correlation of remaining features\n",
    "corrmat = trainx.corr()\n",
    "#print(corrmat)\n",
    "\n",
    "print(corrmat.shape)\n",
    "sns.heatmap(np.tril(corrmat), vmin=-1,vmax=1, center=0)"
   ]
  },
  {
   "cell_type": "code",
   "execution_count": 10,
   "id": "759bc628",
   "metadata": {},
   "outputs": [
    {
     "name": "stdout",
     "output_type": "stream",
     "text": [
      "Scores: [1.0, 0.875, 0.875, 1.0, 1.0]\n"
     ]
    }
   ],
   "source": [
    "# parameter optimization test\n",
    "skf = StratifiedKFold(n_splits=5)\n",
    "scores = []\n",
    "for trainidx, testidx in skf.split(train, target):\n",
    "    trainx, trainy = train.loc[trainidx, :], target[trainidx]\n",
    "    testx, testy = train.loc[testidx], target[testidx]\n",
    "    \n",
    "    # create metrics df, drop features based on metrics\n",
    "    metrics = generate_metrics(trainx, trainy)\n",
    "    trainx = dropfeat(trainx, metrics)\n",
    "    testx = dropfeat(testx, metrics)\n",
    "    #print(trainx.shape)\n",
    "    \n",
    "    # find correlated features, drop features\n",
    "    corrcol = generate_corr(trainx, threshold=0.7, metricsdf=metrics)\n",
    "    trainx = trainx.drop(corrcol, axis=1)\n",
    "    testx = testx.drop(corrcol, axis=1)\n",
    "    #print(trainx.shape)\n",
    "    \n",
    "    # model pipeline\n",
    "    svcpipe = Pipeline([\n",
    "        ('scaler', StandardScaler()),\n",
    "        #('svc', SVC(C=1)),\n",
    "        ('svc', SVC(C=0.5, class_weight='balanced'))\n",
    "    ])   \n",
    "    \n",
    "    svcpipe.fit(trainx, trainy)\n",
    "    scores.append(svcpipe.score(testx, testy))\n",
    "    \n",
    "print(f'Scores: {scores}')"
   ]
  },
  {
   "cell_type": "markdown",
   "id": "837117a9",
   "metadata": {},
   "source": [
    "#### Final Model"
   ]
  },
  {
   "cell_type": "code",
   "execution_count": 11,
   "id": "3d5bf012",
   "metadata": {},
   "outputs": [
    {
     "name": "stdout",
     "output_type": "stream",
     "text": [
      "classes: ['ALL' 'AML']\n",
      "shape after metrics filter: (38, 43)\n",
      "shape after correlation filter: (38, 13)\n",
      "Score: 1.0\n"
     ]
    }
   ],
   "source": [
    "# final model\n",
    "trainx = pd.read_csv('microarray_train.csv', index_col=0)\n",
    "trainy = trainx.pop('cancer')\n",
    "\n",
    "testx = pd.read_csv('microarray_train.csv', index_col=0)\n",
    "testy = testx.pop('cancer')\n",
    "\n",
    "# label encode target, ALL:0, AML:1\n",
    "le = LabelEncoder()\n",
    "trainy = le.fit_transform(trainy)\n",
    "testy = le.fit_transform(testy)\n",
    "print(f'classes: {le.classes_}')\n",
    "\n",
    "# create metrics df, drop features based on metrics\n",
    "metrics = generate_metrics(trainx, trainy)\n",
    "trainx = dropfeat(trainx, metrics)\n",
    "testx = dropfeat(testx, metrics)\n",
    "print(f'shape after metrics filter: {trainx.shape}')\n",
    "\n",
    "# find correlated features, drop features\n",
    "corrcol = generate_corr(trainx, threshold=0.7, metricsdf=metrics)\n",
    "trainx = trainx.drop(corrcol, axis=1)\n",
    "testx = testx.drop(corrcol, axis=1)\n",
    "print(f'shape after correlation filter: {trainx.shape}')\n",
    "\n",
    "# model pipeline\n",
    "svcpipe = Pipeline([\n",
    "    ('scaler', StandardScaler()),\n",
    "    ('svc', SVC(C=1, class_weight='balanced'))\n",
    "])   \n",
    "\n",
    "svcpipe.fit(trainx, trainy)\n",
    "svcpipe.score(testx, testy)\n",
    "    \n",
    "print(f'Score: {svcpipe.score(testx, testy)}')"
   ]
  },
  {
   "cell_type": "code",
   "execution_count": 12,
   "id": "be9379a4",
   "metadata": {},
   "outputs": [
    {
     "name": "stdout",
     "output_type": "stream",
     "text": [
      "(13, 13)\n"
     ]
    },
    {
     "data": {
      "text/plain": [
       "<AxesSubplot:>"
      ]
     },
     "execution_count": 12,
     "metadata": {},
     "output_type": "execute_result"
    },
    {
     "data": {
      "image/png": "[encoded data removed]",
      "text/plain": [
       "<Figure size 432x288 with 2 Axes>"
      ]
     },
     "metadata": {
      "needs_background": "light"
     },
     "output_type": "display_data"
    }
   ],
   "source": [
    "# check correlation of remaining features\n",
    "corrmat = trainx.corr()\n",
    "#print(corrmat)\n",
    "print(corrmat.shape)\n",
    "sns.heatmap(np.tril(corrmat), vmin=-1,vmax=1, center=0)"
   ]
  },
  {
   "cell_type": "code",
   "execution_count": 13,
   "id": "08fe40f3",
   "metadata": {},
   "outputs": [
    {
     "data": {
      "text/plain": [
       "Index(['D86479_at', 'D86983_at', 'L47738_at', 'M55150_at', 'M81933_at',\n",
       "       'U28833_at', 'U53468_at', 'U82759_at', 'X59417_at', 'Y12670_at',\n",
       "       'D26156_s_at', 'U22376_cds2_s_at', 'M12959_s_at'],\n",
       "      dtype='object')"
      ]
     },
     "execution_count": 13,
     "metadata": {},
     "output_type": "execute_result"
    }
   ],
   "source": [
    "# remaining features\n",
    "trainx.columns"
   ]
  },
  {
   "cell_type": "code",
   "execution_count": 14,
   "id": "30958102",
   "metadata": {},
   "outputs": [
    {
     "name": "stdout",
     "output_type": "stream",
     "text": [
      "[653, 682, 1629, 2019, 2266, 2994, 3390, 3846, 4327, 5038, 5592, 5771, 6166]\n"
     ]
    },
    {
     "data": {
      "text/html": [
       "<div>\n",
       "<style scoped>\n",
       "    .dataframe tbody tr th:only-of-type {\n",
       "        vertical-align: middle;\n",
       "    }\n",
       "\n",
       "    .dataframe tbody tr th {\n",
       "        vertical-align: top;\n",
       "    }\n",
       "\n",
       "    .dataframe thead th {\n",
       "        text-align: right;\n",
       "    }\n",
       "</style>\n",
       "<table border=\"1\" class=\"dataframe\">\n",
       "  <thead>\n",
       "    <tr style=\"text-align: right;\">\n",
       "      <th></th>\n",
       "      <th>Gene Description</th>\n",
       "      <th>Gene Accession Number</th>\n",
       "    </tr>\n",
       "  </thead>\n",
       "  <tbody>\n",
       "    <tr>\n",
       "      <th>653</th>\n",
       "      <td>Non-lens beta gamma-crystallin like protein (A...</td>\n",
       "      <td>D86479_at</td>\n",
       "    </tr>\n",
       "    <tr>\n",
       "      <th>682</th>\n",
       "      <td>KIAA0230 gene; partial cds</td>\n",
       "      <td>D86983_at</td>\n",
       "    </tr>\n",
       "    <tr>\n",
       "      <th>1629</th>\n",
       "      <td>Inducible protein mRNA</td>\n",
       "      <td>L47738_at</td>\n",
       "    </tr>\n",
       "    <tr>\n",
       "      <th>2019</th>\n",
       "      <td>FAH Fumarylacetoacetate</td>\n",
       "      <td>M55150_at</td>\n",
       "    </tr>\n",
       "    <tr>\n",
       "      <th>2266</th>\n",
       "      <td>CDC25A Cell division cycle 25A</td>\n",
       "      <td>M81933_at</td>\n",
       "    </tr>\n",
       "    <tr>\n",
       "      <th>2994</th>\n",
       "      <td>Down syndrome critical region protein (DSCR1) ...</td>\n",
       "      <td>U28833_at</td>\n",
       "    </tr>\n",
       "    <tr>\n",
       "      <th>3390</th>\n",
       "      <td>NADH:ubiquinone oxidoreductase subunit B13 (B1...</td>\n",
       "      <td>U53468_at</td>\n",
       "    </tr>\n",
       "    <tr>\n",
       "      <th>3846</th>\n",
       "      <td>GB DEF = Homeodomain protein HoxA9 mRNA</td>\n",
       "      <td>U82759_at</td>\n",
       "    </tr>\n",
       "    <tr>\n",
       "      <th>4327</th>\n",
       "      <td>PROTEASOME IOTA CHAIN</td>\n",
       "      <td>X59417_at</td>\n",
       "    </tr>\n",
       "    <tr>\n",
       "      <th>5038</th>\n",
       "      <td>LEPR Leptin receptor</td>\n",
       "      <td>Y12670_at</td>\n",
       "    </tr>\n",
       "    <tr>\n",
       "      <th>5592</th>\n",
       "      <td>Transcriptional activator hSNF2b</td>\n",
       "      <td>D26156_s_at</td>\n",
       "    </tr>\n",
       "    <tr>\n",
       "      <th>5771</th>\n",
       "      <td>C-myb gene extracted from Human (c-myb) gene; ...</td>\n",
       "      <td>U22376_cds2_s_at</td>\n",
       "    </tr>\n",
       "    <tr>\n",
       "      <th>6166</th>\n",
       "      <td>TCRA T cell receptor alpha-chain</td>\n",
       "      <td>M12959_s_at</td>\n",
       "    </tr>\n",
       "  </tbody>\n",
       "</table>\n",
       "</div>"
      ],
      "text/plain": [
       "                                       Gene Description Gene Accession Number\n",
       "653   Non-lens beta gamma-crystallin like protein (A...             D86479_at\n",
       "682                          KIAA0230 gene; partial cds             D86983_at\n",
       "1629                             Inducible protein mRNA             L47738_at\n",
       "2019                            FAH Fumarylacetoacetate             M55150_at\n",
       "2266                     CDC25A Cell division cycle 25A             M81933_at\n",
       "2994  Down syndrome critical region protein (DSCR1) ...             U28833_at\n",
       "3390  NADH:ubiquinone oxidoreductase subunit B13 (B1...             U53468_at\n",
       "3846            GB DEF = Homeodomain protein HoxA9 mRNA             U82759_at\n",
       "4327                              PROTEASOME IOTA CHAIN             X59417_at\n",
       "5038                               LEPR Leptin receptor             Y12670_at\n",
       "5592                   Transcriptional activator hSNF2b           D26156_s_at\n",
       "5771  C-myb gene extracted from Human (c-myb) gene; ...      U22376_cds2_s_at\n",
       "6166                   TCRA T cell receptor alpha-chain           M12959_s_at"
      ]
     },
     "execution_count": 14,
     "metadata": {},
     "output_type": "execute_result"
    }
   ],
   "source": [
    "# gene descriptions of remaining features\n",
    "gene_info = pd.read_csv('gene_info.csv', index_col=0)\n",
    "#gene_info.head()\n",
    "geneidx=[]\n",
    "for genenum in trainx.columns:\n",
    "    mask = gene_info['Gene Accession Number'].str.match(genenum)\n",
    "    geneidx.append(list(gene_info[mask].index)[0])\n",
    "    \n",
    "print(geneidx)\n",
    "gene_info.iloc[geneidx,:]"
   ]
  },
  {
   "cell_type": "code",
   "execution_count": null,
   "id": "f539020a",
   "metadata": {},
   "outputs": [],
   "source": []
  }
 ],
 "metadata": {
  "kernelspec": {
   "display_name": "Python 3 (ipykernel)",
   "language": "python",
   "name": "python3"
  },
  "language_info": {
   "codemirror_mode": {
    "name": "ipython",
    "version": 3
   },
   "file_extension": ".py",
   "mimetype": "text/x-python",
   "name": "python",
   "nbconvert_exporter": "python",
   "pygments_lexer": "ipython3",
   "version": "3.8.3"
  }
 },
 "nbformat": 4,
 "nbformat_minor": 5
}
