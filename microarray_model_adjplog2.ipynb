{
 "cells": [
  {
   "cell_type": "code",
   "execution_count": 1,
   "id": "ca8269e5",
   "metadata": {},
   "outputs": [],
   "source": [
    "import pandas as pd\n",
    "import numpy as np\n",
    "import scipy.stats as stats\n",
    "import matplotlib.pyplot as plt\n",
    "import seaborn as sns\n",
    "\n",
    "from sklearn.preprocessing import LabelEncoder, StandardScaler\n",
    "from sklearn.feature_selection import mutual_info_classif\n",
    "from sklearn.model_selection import StratifiedKFold\n",
    "from sklearn.pipeline import Pipeline\n",
    "from sklearn.svm import SVC\n",
    "\n",
    "import warnings\n",
    "warnings.filterwarnings('ignore')"
   ]
  },
  {
   "cell_type": "code",
   "execution_count": 2,
   "id": "f3a5522d",
   "metadata": {},
   "outputs": [
    {
     "name": "stdout",
     "output_type": "stream",
     "text": [
      "num features all zero: 396\n",
      "(38, 6733)\n"
     ]
    },
    {
     "data": {
      "text/html": [
       "<div>\n",
       "<style scoped>\n",
       "    .dataframe tbody tr th:only-of-type {\n",
       "        vertical-align: middle;\n",
       "    }\n",
       "\n",
       "    .dataframe tbody tr th {\n",
       "        vertical-align: top;\n",
       "    }\n",
       "\n",
       "    .dataframe thead th {\n",
       "        text-align: right;\n",
       "    }\n",
       "</style>\n",
       "<table border=\"1\" class=\"dataframe\">\n",
       "  <thead>\n",
       "    <tr style=\"text-align: right;\">\n",
       "      <th></th>\n",
       "      <th>AFFX-BioB-5_at</th>\n",
       "      <th>AFFX-BioB-3_at</th>\n",
       "      <th>AFFX-BioC-5_at</th>\n",
       "      <th>AFFX-BioDn-3_at</th>\n",
       "      <th>AFFX-CreX-3_at</th>\n",
       "      <th>AFFX-BioB-5_st</th>\n",
       "      <th>AFFX-BioB-M_st</th>\n",
       "      <th>AFFX-BioDn-5_st</th>\n",
       "      <th>AFFX-BioDn-3_st</th>\n",
       "      <th>AFFX-CreX-5_st</th>\n",
       "      <th>...</th>\n",
       "      <th>U48730_at</th>\n",
       "      <th>U58516_at</th>\n",
       "      <th>U73738_at</th>\n",
       "      <th>X06956_at</th>\n",
       "      <th>X16699_at</th>\n",
       "      <th>X83863_at</th>\n",
       "      <th>Z17240_at</th>\n",
       "      <th>L49218_f_at</th>\n",
       "      <th>M71243_f_at</th>\n",
       "      <th>Z78285_f_at</th>\n",
       "    </tr>\n",
       "  </thead>\n",
       "  <tbody>\n",
       "    <tr>\n",
       "      <th>0</th>\n",
       "      <td>0.0</td>\n",
       "      <td>0.000000</td>\n",
       "      <td>6.475733</td>\n",
       "      <td>7.643856</td>\n",
       "      <td>7.982994</td>\n",
       "      <td>7.693487</td>\n",
       "      <td>0.000000</td>\n",
       "      <td>6.247928</td>\n",
       "      <td>8.577429</td>\n",
       "      <td>0.000000</td>\n",
       "      <td>...</td>\n",
       "      <td>7.539159</td>\n",
       "      <td>9.000000</td>\n",
       "      <td>0.000000</td>\n",
       "      <td>8.607330</td>\n",
       "      <td>0.00000</td>\n",
       "      <td>9.632995</td>\n",
       "      <td>8.366322</td>\n",
       "      <td>5.209453</td>\n",
       "      <td>7.584963</td>\n",
       "      <td>0.0</td>\n",
       "    </tr>\n",
       "    <tr>\n",
       "      <th>1</th>\n",
       "      <td>0.0</td>\n",
       "      <td>0.000000</td>\n",
       "      <td>8.149747</td>\n",
       "      <td>0.000000</td>\n",
       "      <td>6.672425</td>\n",
       "      <td>6.228819</td>\n",
       "      <td>4.321928</td>\n",
       "      <td>7.515700</td>\n",
       "      <td>7.366322</td>\n",
       "      <td>0.000000</td>\n",
       "      <td>...</td>\n",
       "      <td>7.409391</td>\n",
       "      <td>9.710806</td>\n",
       "      <td>0.000000</td>\n",
       "      <td>8.791163</td>\n",
       "      <td>0.00000</td>\n",
       "      <td>9.612868</td>\n",
       "      <td>8.209453</td>\n",
       "      <td>3.584963</td>\n",
       "      <td>6.266787</td>\n",
       "      <td>0.0</td>\n",
       "    </tr>\n",
       "    <tr>\n",
       "      <th>2</th>\n",
       "      <td>0.0</td>\n",
       "      <td>0.000000</td>\n",
       "      <td>8.276124</td>\n",
       "      <td>5.087463</td>\n",
       "      <td>7.693487</td>\n",
       "      <td>0.000000</td>\n",
       "      <td>4.321928</td>\n",
       "      <td>7.707359</td>\n",
       "      <td>8.758223</td>\n",
       "      <td>6.409391</td>\n",
       "      <td>...</td>\n",
       "      <td>8.303781</td>\n",
       "      <td>10.228819</td>\n",
       "      <td>5.087463</td>\n",
       "      <td>7.400879</td>\n",
       "      <td>5.72792</td>\n",
       "      <td>10.153552</td>\n",
       "      <td>9.603626</td>\n",
       "      <td>5.392317</td>\n",
       "      <td>7.839204</td>\n",
       "      <td>0.0</td>\n",
       "    </tr>\n",
       "    <tr>\n",
       "      <th>3</th>\n",
       "      <td>0.0</td>\n",
       "      <td>8.055282</td>\n",
       "      <td>3.700440</td>\n",
       "      <td>7.312883</td>\n",
       "      <td>5.643856</td>\n",
       "      <td>5.000000</td>\n",
       "      <td>8.507795</td>\n",
       "      <td>7.159871</td>\n",
       "      <td>8.087463</td>\n",
       "      <td>0.000000</td>\n",
       "      <td>...</td>\n",
       "      <td>7.912889</td>\n",
       "      <td>9.707359</td>\n",
       "      <td>7.774787</td>\n",
       "      <td>7.451211</td>\n",
       "      <td>0.00000</td>\n",
       "      <td>9.294621</td>\n",
       "      <td>7.417853</td>\n",
       "      <td>0.000000</td>\n",
       "      <td>6.988685</td>\n",
       "      <td>0.0</td>\n",
       "    </tr>\n",
       "    <tr>\n",
       "      <th>4</th>\n",
       "      <td>0.0</td>\n",
       "      <td>0.000000</td>\n",
       "      <td>7.400879</td>\n",
       "      <td>2.321928</td>\n",
       "      <td>6.149747</td>\n",
       "      <td>7.982994</td>\n",
       "      <td>7.285402</td>\n",
       "      <td>5.044394</td>\n",
       "      <td>7.741467</td>\n",
       "      <td>1.000000</td>\n",
       "      <td>...</td>\n",
       "      <td>7.294621</td>\n",
       "      <td>9.344296</td>\n",
       "      <td>5.857981</td>\n",
       "      <td>8.980140</td>\n",
       "      <td>0.00000</td>\n",
       "      <td>7.971544</td>\n",
       "      <td>8.299208</td>\n",
       "      <td>3.906891</td>\n",
       "      <td>5.832890</td>\n",
       "      <td>0.0</td>\n",
       "    </tr>\n",
       "  </tbody>\n",
       "</table>\n",
       "<p>5 rows × 6733 columns</p>\n",
       "</div>"
      ],
      "text/plain": [
       "   AFFX-BioB-5_at  AFFX-BioB-3_at  AFFX-BioC-5_at  AFFX-BioDn-3_at  \\\n",
       "0             0.0        0.000000        6.475733         7.643856   \n",
       "1             0.0        0.000000        8.149747         0.000000   \n",
       "2             0.0        0.000000        8.276124         5.087463   \n",
       "3             0.0        8.055282        3.700440         7.312883   \n",
       "4             0.0        0.000000        7.400879         2.321928   \n",
       "\n",
       "   AFFX-CreX-3_at  AFFX-BioB-5_st  AFFX-BioB-M_st  AFFX-BioDn-5_st  \\\n",
       "0        7.982994        7.693487        0.000000         6.247928   \n",
       "1        6.672425        6.228819        4.321928         7.515700   \n",
       "2        7.693487        0.000000        4.321928         7.707359   \n",
       "3        5.643856        5.000000        8.507795         7.159871   \n",
       "4        6.149747        7.982994        7.285402         5.044394   \n",
       "\n",
       "   AFFX-BioDn-3_st  AFFX-CreX-5_st  ...  U48730_at  U58516_at  U73738_at  \\\n",
       "0         8.577429        0.000000  ...   7.539159   9.000000   0.000000   \n",
       "1         7.366322        0.000000  ...   7.409391   9.710806   0.000000   \n",
       "2         8.758223        6.409391  ...   8.303781  10.228819   5.087463   \n",
       "3         8.087463        0.000000  ...   7.912889   9.707359   7.774787   \n",
       "4         7.741467        1.000000  ...   7.294621   9.344296   5.857981   \n",
       "\n",
       "   X06956_at  X16699_at  X83863_at  Z17240_at  L49218_f_at  M71243_f_at  \\\n",
       "0   8.607330    0.00000   9.632995   8.366322     5.209453     7.584963   \n",
       "1   8.791163    0.00000   9.612868   8.209453     3.584963     6.266787   \n",
       "2   7.400879    5.72792  10.153552   9.603626     5.392317     7.839204   \n",
       "3   7.451211    0.00000   9.294621   7.417853     0.000000     6.988685   \n",
       "4   8.980140    0.00000   7.971544   8.299208     3.906891     5.832890   \n",
       "\n",
       "   Z78285_f_at  \n",
       "0          0.0  \n",
       "1          0.0  \n",
       "2          0.0  \n",
       "3          0.0  \n",
       "4          0.0  \n",
       "\n",
       "[5 rows x 6733 columns]"
      ]
     },
     "execution_count": 2,
     "metadata": {},
     "output_type": "execute_result"
    }
   ],
   "source": [
    "# load train data\n",
    "train = pd.read_csv('microarray_train.csv', index_col=0)\n",
    "\n",
    "# seprate target from features\n",
    "target = train.pop('cancer')\n",
    "\n",
    "# negative values relaced with 0\n",
    "train = train.mask(train < 0, 0)\n",
    "train = np.log2(train + 1)\n",
    "\n",
    "# check if features with all zero values\n",
    "zeros = (train==0).sum(axis=0)\n",
    "allzeros = (zeros == len(train.index))\n",
    "print('num features all zero:', allzeros.sum())\n",
    "\n",
    "zerocols = list(allzeros[allzeros==True].index)\n",
    "train = train.drop(columns=zerocols)\n",
    "\n",
    "print(train.shape)\n",
    "train.head()"
   ]
  },
  {
   "cell_type": "code",
   "execution_count": 3,
   "id": "0cd85143",
   "metadata": {},
   "outputs": [
    {
     "name": "stdout",
     "output_type": "stream",
     "text": [
      "['ALL' 'AML']\n"
     ]
    }
   ],
   "source": [
    "# label encode target, ALL:0, AML:1\n",
    "le = LabelEncoder()\n",
    "target = le.fit_transform(target)\n",
    "print(le.classes_)"
   ]
  },
  {
   "cell_type": "markdown",
   "id": "e928829d",
   "metadata": {},
   "source": [
    "#### Baseline Model"
   ]
  },
  {
   "cell_type": "code",
   "execution_count": 4,
   "id": "a1c39492",
   "metadata": {},
   "outputs": [
    {
     "name": "stdout",
     "output_type": "stream",
     "text": [
      "Scores: [0.75, 0.75, 0.625, 0.7142857142857143, 0.7142857142857143]\n"
     ]
    }
   ],
   "source": [
    "# baseline\n",
    "\n",
    "# stratified 5 fold split of data\n",
    "skf = StratifiedKFold(n_splits=5)\n",
    "scores = []\n",
    "for trainidx, testidx in skf.split(train, target):\n",
    "    trainx, trainy = train.loc[trainidx, :], target[trainidx]\n",
    "    testx, testy = train.loc[testidx], target[testidx]\n",
    "    \n",
    "    svcpipe = Pipeline([\n",
    "        ('scaler', StandardScaler()),\n",
    "        ('svc', SVC(C=1))\n",
    "    ])\n",
    "    \n",
    "    svcpipe.fit(trainx, trainy)\n",
    "    scores.append(svcpipe.score(testx, testy))\n",
    "    \n",
    "print(f'Scores: {scores}')"
   ]
  },
  {
   "cell_type": "code",
   "execution_count": 5,
   "id": "255e347d",
   "metadata": {
    "scrolled": true
   },
   "outputs": [
    {
     "data": {
      "text/html": [
       "<div>\n",
       "<style scoped>\n",
       "    .dataframe tbody tr th:only-of-type {\n",
       "        vertical-align: middle;\n",
       "    }\n",
       "\n",
       "    .dataframe tbody tr th {\n",
       "        vertical-align: top;\n",
       "    }\n",
       "\n",
       "    .dataframe thead th {\n",
       "        text-align: right;\n",
       "    }\n",
       "</style>\n",
       "<table border=\"1\" class=\"dataframe\">\n",
       "  <thead>\n",
       "    <tr style=\"text-align: right;\">\n",
       "      <th></th>\n",
       "      <th>pctvalpos</th>\n",
       "      <th>mi</th>\n",
       "      <th>pval</th>\n",
       "      <th>adj_pval</th>\n",
       "    </tr>\n",
       "  </thead>\n",
       "  <tbody>\n",
       "    <tr>\n",
       "      <th>count</th>\n",
       "      <td>6733.000000</td>\n",
       "      <td>6733.000000</td>\n",
       "      <td>6.733000e+03</td>\n",
       "      <td>6733.000000</td>\n",
       "    </tr>\n",
       "    <tr>\n",
       "      <th>mean</th>\n",
       "      <td>0.754293</td>\n",
       "      <td>0.052042</td>\n",
       "      <td>3.619464e-01</td>\n",
       "      <td>0.389671</td>\n",
       "    </tr>\n",
       "    <tr>\n",
       "      <th>std</th>\n",
       "      <td>0.318594</td>\n",
       "      <td>0.072487</td>\n",
       "      <td>3.084091e-01</td>\n",
       "      <td>0.321626</td>\n",
       "    </tr>\n",
       "    <tr>\n",
       "      <th>min</th>\n",
       "      <td>0.026316</td>\n",
       "      <td>0.000000</td>\n",
       "      <td>2.061858e-10</td>\n",
       "      <td>0.000000</td>\n",
       "    </tr>\n",
       "    <tr>\n",
       "      <th>25%</th>\n",
       "      <td>0.552632</td>\n",
       "      <td>0.000000</td>\n",
       "      <td>6.915102e-02</td>\n",
       "      <td>0.077800</td>\n",
       "    </tr>\n",
       "    <tr>\n",
       "      <th>50%</th>\n",
       "      <td>0.947368</td>\n",
       "      <td>0.018912</td>\n",
       "      <td>3.031255e-01</td>\n",
       "      <td>0.334400</td>\n",
       "    </tr>\n",
       "    <tr>\n",
       "      <th>75%</th>\n",
       "      <td>1.000000</td>\n",
       "      <td>0.082276</td>\n",
       "      <td>6.208379e-01</td>\n",
       "      <td>0.665400</td>\n",
       "    </tr>\n",
       "    <tr>\n",
       "      <th>max</th>\n",
       "      <td>1.000000</td>\n",
       "      <td>0.566292</td>\n",
       "      <td>9.999199e-01</td>\n",
       "      <td>1.000000</td>\n",
       "    </tr>\n",
       "  </tbody>\n",
       "</table>\n",
       "</div>"
      ],
      "text/plain": [
       "         pctvalpos           mi          pval     adj_pval\n",
       "count  6733.000000  6733.000000  6.733000e+03  6733.000000\n",
       "mean      0.754293     0.052042  3.619464e-01     0.389671\n",
       "std       0.318594     0.072487  3.084091e-01     0.321626\n",
       "min       0.026316     0.000000  2.061858e-10     0.000000\n",
       "25%       0.552632     0.000000  6.915102e-02     0.077800\n",
       "50%       0.947368     0.018912  3.031255e-01     0.334400\n",
       "75%       1.000000     0.082276  6.208379e-01     0.665400\n",
       "max       1.000000     0.566292  9.999199e-01     1.000000"
      ]
     },
     "execution_count": 5,
     "metadata": {},
     "output_type": "execute_result"
    }
   ],
   "source": [
    "# create metrics df\n",
    "def generate_metrics(df,target):    \n",
    "    metrics = pd.DataFrame(index=train.columns)\n",
    "    # compute percent of intensity values > 0 for each feature\n",
    "    metrics['pctvalpos'] = [sum(df[col]>0)/len(df[col]) for col in df.columns]\n",
    "    # compute mutual info for features\n",
    "    metrics['mi'] = mutual_info_classif(df, target, random_state=123)\n",
    "    \n",
    "    # compute regular p-values for each feature between ALL/0 and AML/1 \n",
    "    pval=[]\n",
    "    for col in df.columns:\n",
    "        pval.append(stats.ttest_ind(df.loc[target==1,col], df.loc[target==0,col], equal_var=False)[1]) # store p-val\n",
    "    metrics['pval'] = pval\n",
    "    \n",
    "    # compute adjusted p-values for each feature between ALL and AML with permutations \n",
    "    pval=[]\n",
    "    for col in df.columns:\n",
    "        pval.append(stats.ttest_ind(df.loc[target==1,col], df.loc[target==0,col], \\\n",
    "                                    permutations=5000, random_state=123,equal_var=False)[1]) # store p-val\n",
    "    metrics['adj_pval'] = pval    \n",
    "\n",
    "    return metrics\n",
    "\n",
    "met = generate_metrics(train, target)\n",
    "met.describe()\n"
   ]
  },
  {
   "cell_type": "code",
   "execution_count": 6,
   "id": "5fb49118",
   "metadata": {},
   "outputs": [],
   "source": [
    "# drop features based on metrics\n",
    "def dropfeat(df, metricsdf):\n",
    "    dropcol = metricsdf[metricsdf['pctvalpos'] < 0.6].index\n",
    "    #dropcol = metricsdf[metricsdf['adj_pval'] > 0.01].index\n",
    "    dropcol = dropcol.append(metricsdf[metricsdf['adj_pval'] > 0.0006].index)\n",
    "    #dropcol = dropcol.append(metricsdf[metricsdf['pval'] > 0.001].index)\n",
    "    dropcol = dropcol.append(metricsdf[metricsdf['mi'] < 0.4].index)\n",
    "    \n",
    "    dropcol = dropcol.unique()\n",
    "    df = df.drop(dropcol, axis=1)\n",
    "    #print(df.shape)\n",
    "    return df"
   ]
  },
  {
   "cell_type": "code",
   "execution_count": 7,
   "id": "921eb388",
   "metadata": {},
   "outputs": [],
   "source": [
    "# generate list of correlated features to drop\n",
    "def generate_corr(df, threshold, metricsdf):\n",
    "    # set cut off threshold\n",
    "    threshold = threshold\n",
    "    # compute correlation matrix, take absolute value \n",
    "    corrmat = df.corr().abs() \n",
    "    \n",
    "    # find feature pairs with correlation coefficients above threshold\n",
    "    r = []\n",
    "    c = []\n",
    "    coeff = []\n",
    "    for row in range(len(corrmat.columns)):\n",
    "        for col in range(row): # stops at diagonal\n",
    "            # check if above threshold\n",
    "            if corrmat.iloc[row,col] >= threshold:\n",
    "                # store row, column, coefficient\n",
    "                r.append(row)\n",
    "                c.append(col)\n",
    "                coeff.append(corrmat.iloc[row,col])\n",
    "                \n",
    "    # make df with row and col pairs sorted by correlation coefficient\n",
    "    corrdf = pd.DataFrame()\n",
    "    corrdf['r'] = r\n",
    "    corrdf['c'] = c\n",
    "    corrdf['coeff'] = coeff\n",
    "    #print(corrdf)\n",
    "    # sort by coefficient\n",
    "    corrdf = corrdf.sort_values(by=['coeff'], ascending=False)\n",
    "    #print(corrdf)\n",
    "    \n",
    "    # choose correlated features to drop based on p-value\n",
    "    corrcol = []\n",
    "    for entry in range(len(corrdf)):\n",
    "        row = corrdf.loc[entry,'r']\n",
    "        col = corrdf.loc[entry,'c']\n",
    "        # check which has higher mi score, if already in corrcol\n",
    "        if metrics.loc[corrmat.columns[col],'mi'] < metrics.loc[corrmat.columns[row],'mi'] \\\n",
    "        and (corrmat.columns[col] not in corrcol):\n",
    "            # add to corrcol list\n",
    "            corrcol.append(corrmat.columns[col])\n",
    "        elif metrics.loc[corrmat.columns[col],'mi'] > metrics.loc[corrmat.columns[row],'mi'] \\\n",
    "        and (corrmat.columns[row] not in corrcol):\n",
    "            corrcol.append(corrmat.columns[row])\n",
    "            \n",
    "    return corrcol\n",
    "#trainx = trainx.drop(corrcol, axis=1)\n"
   ]
  },
  {
   "cell_type": "code",
   "execution_count": 8,
   "id": "431e4dec",
   "metadata": {
    "scrolled": true
   },
   "outputs": [
    {
     "name": "stdout",
     "output_type": "stream",
     "text": [
      "(30, 4)\n",
      "(30, 2)\n",
      "(30, 2)\n",
      "(31, 2)\n",
      "(31, 3)\n",
      "Scores: [1.0, 1.0, 0.75, 1.0, 0.8571428571428571]\n"
     ]
    }
   ],
   "source": [
    "# stratified 5 fold split of data\n",
    "skf = StratifiedKFold(n_splits=5)\n",
    "scores = []\n",
    "for trainidx, testidx in skf.split(train, target):\n",
    "    trainx, trainy = train.loc[trainidx, :], target[trainidx]\n",
    "    testx, testy = train.loc[testidx], target[testidx]\n",
    "    \n",
    "    # create metrics df, drop features based on metrics\n",
    "    metrics = generate_metrics(trainx, trainy)\n",
    "    trainx = dropfeat(trainx, metrics)\n",
    "    testx = dropfeat(testx, metrics)\n",
    "    #print(trainx.shape)\n",
    "    \n",
    "    # find correlated features, drop features\n",
    "    corrcol = generate_corr(trainx, threshold=0.5, metricsdf=metrics)\n",
    "    trainx = trainx.drop(corrcol, axis=1)\n",
    "    testx = testx.drop(corrcol, axis=1)\n",
    "    print(trainx.shape)\n",
    "    \n",
    "    # model pipeline\n",
    "    svcpipe = Pipeline([\n",
    "        ('scaler', StandardScaler()),\n",
    "        #('svc', SVC(C=1)),\n",
    "        ('svc', SVC(C=1, class_weight='balanced'))\n",
    "    ])   \n",
    "    \n",
    "    svcpipe.fit(trainx, trainy)\n",
    "    scores.append(svcpipe.score(testx, testy))\n",
    "    \n",
    "print(f'Scores: {scores}')"
   ]
  },
  {
   "cell_type": "code",
   "execution_count": 9,
   "id": "93c4ca33",
   "metadata": {},
   "outputs": [
    {
     "name": "stdout",
     "output_type": "stream",
     "text": [
      "(3, 3)\n"
     ]
    },
    {
     "data": {
      "text/plain": [
       "<AxesSubplot:>"
      ]
     },
     "execution_count": 9,
     "metadata": {},
     "output_type": "execute_result"
    },
    {
     "data": {
      "image/png": "[encoded data removed]",
      "text/plain": [
       "<Figure size 432x288 with 2 Axes>"
      ]
     },
     "metadata": {
      "needs_background": "light"
     },
     "output_type": "display_data"
    }
   ],
   "source": [
    "# check correlation of remaining features\n",
    "corrmat = trainx.corr()\n",
    "#print(corrmat)\n",
    "\n",
    "print(corrmat.shape)\n",
    "sns.heatmap(np.tril(corrmat), vmin=-1,vmax=1, center=0)"
   ]
  },
  {
   "cell_type": "code",
   "execution_count": 10,
   "id": "759bc628",
   "metadata": {},
   "outputs": [
    {
     "name": "stdout",
     "output_type": "stream",
     "text": [
      "Scores: [0.875, 1.0, 0.625, 0.5714285714285714, 0.8571428571428571]\n"
     ]
    }
   ],
   "source": [
    "# parameter optimization test\n",
    "skf = StratifiedKFold(n_splits=5)\n",
    "scores = []\n",
    "for trainidx, testidx in skf.split(train, target):\n",
    "    trainx, trainy = train.loc[trainidx, :], target[trainidx]\n",
    "    testx, testy = train.loc[testidx], target[testidx]\n",
    "    \n",
    "    # create metrics df, drop features based on metrics\n",
    "    metrics = generate_metrics(trainx, trainy)\n",
    "    trainx = dropfeat(trainx, metrics)\n",
    "    testx = dropfeat(testx, metrics)\n",
    "    #print(trainx.shape)\n",
    "    \n",
    "    # find correlated features, drop features\n",
    "    corrcol = generate_corr(trainx, threshold=0.5, metricsdf=metrics)\n",
    "    trainx = trainx.drop(corrcol, axis=1)\n",
    "    testx = testx.drop(corrcol, axis=1)\n",
    "    #print(trainx.shape)\n",
    "    \n",
    "    # model pipeline\n",
    "    svcpipe = Pipeline([\n",
    "        ('scaler', StandardScaler()),\n",
    "        #('svc', SVC(C=1)),\n",
    "        ('svc', SVC(C=0.1, class_weight='balanced'))\n",
    "    ])   \n",
    "    \n",
    "    svcpipe.fit(trainx, trainy)\n",
    "    scores.append(svcpipe.score(testx, testy))\n",
    "    \n",
    "print(f'Scores: {scores}')"
   ]
  },
  {
   "cell_type": "markdown",
   "id": "837117a9",
   "metadata": {},
   "source": [
    "#### Final Model"
   ]
  },
  {
   "cell_type": "code",
   "execution_count": 11,
   "id": "7420bb1f",
   "metadata": {},
   "outputs": [
    {
     "name": "stdout",
     "output_type": "stream",
     "text": [
      "num features all zero: 396\n",
      "train shape: (38, 6733)\n",
      "test shape: (34, 6733)\n"
     ]
    }
   ],
   "source": [
    "trainx = pd.read_csv('microarray_train.csv', index_col=0)\n",
    "trainy = trainx.pop('cancer')\n",
    "\n",
    "testx = pd.read_csv('microarray_test.csv', index_col=0)\n",
    "testy = testx.pop('cancer')\n",
    "\n",
    "# negative values relaced with 0\n",
    "trainx = trainx.mask(trainx < 0, 0)\n",
    "trainx = np.log2(trainx + 1)\n",
    "\n",
    "testx = testx.mask(testx < 0, 0)\n",
    "testx = np.log2(testx + 1)\n",
    "\n",
    "# drop features with all zero values\n",
    "zeros = (trainx==0).sum(axis=0)\n",
    "allzeros = (zeros == len(trainx.index))\n",
    "print('num features all zero:', allzeros.sum())\n",
    "\n",
    "zerocols = list(allzeros[allzeros==True].index)\n",
    "trainx = trainx.drop(columns=zerocols)\n",
    "testx = testx.drop(columns=zerocols)\n",
    "\n",
    "print('train shape:', trainx.shape)\n",
    "print('test shape:', testx.shape)"
   ]
  },
  {
   "cell_type": "code",
   "execution_count": 12,
   "id": "3d5bf012",
   "metadata": {},
   "outputs": [
    {
     "name": "stdout",
     "output_type": "stream",
     "text": [
      "classes: ['ALL' 'AML']\n",
      "shape after metrics filter: (38, 17)\n",
      "shape after correlation filter: (38, 4)\n",
      "Score: 0.7941176470588235\n"
     ]
    }
   ],
   "source": [
    "# final model\n",
    "\n",
    "# label encode target, ALL:0, AML:1\n",
    "le = LabelEncoder()\n",
    "trainy = le.fit_transform(trainy)\n",
    "testy = le.fit_transform(testy)\n",
    "print(f'classes: {le.classes_}')\n",
    "\n",
    "# create metrics df, drop features based on metrics\n",
    "metrics = generate_metrics(trainx, trainy)\n",
    "trainx = dropfeat(trainx, metrics)\n",
    "testx = dropfeat(testx, metrics)\n",
    "print(f'shape after metrics filter: {trainx.shape}')\n",
    "\n",
    "# find correlated features, drop features\n",
    "corrcol = generate_corr(trainx, threshold=0.5, metricsdf=metrics)\n",
    "trainx = trainx.drop(corrcol, axis=1)\n",
    "testx = testx.drop(corrcol, axis=1)\n",
    "print(f'shape after correlation filter: {trainx.shape}')\n",
    "\n",
    "# model pipeline\n",
    "svcpipe = Pipeline([\n",
    "    ('scaler', StandardScaler()),\n",
    "    ('svc', SVC(C=1, class_weight='balanced'))\n",
    "])   \n",
    "\n",
    "svcpipe.fit(trainx, trainy)\n",
    "svcpipe.score(testx, testy)\n",
    "    \n",
    "print(f'Score: {svcpipe.score(testx, testy)}')"
   ]
  },
  {
   "cell_type": "code",
   "execution_count": 13,
   "id": "be9379a4",
   "metadata": {},
   "outputs": [
    {
     "name": "stdout",
     "output_type": "stream",
     "text": [
      "(4, 4)\n"
     ]
    },
    {
     "data": {
      "text/plain": [
       "<AxesSubplot:>"
      ]
     },
     "execution_count": 13,
     "metadata": {},
     "output_type": "execute_result"
    },
    {
     "data": {
      "image/png": "[encoded data removed]",
      "text/plain": [
       "<Figure size 432x288 with 2 Axes>"
      ]
     },
     "metadata": {
      "needs_background": "light"
     },
     "output_type": "display_data"
    }
   ],
   "source": [
    "# check correlation of remaining features\n",
    "corrmat = trainx.corr()\n",
    "#print(corrmat)\n",
    "print(corrmat.shape)\n",
    "sns.heatmap(np.tril(corrmat), vmin=-1,vmax=1, center=0)"
   ]
  },
  {
   "cell_type": "code",
   "execution_count": 14,
   "id": "08fe40f3",
   "metadata": {},
   "outputs": [
    {
     "data": {
      "text/plain": [
       "Index(['M21551_rna1_at', 'M77142_at', 'X95735_at', 'M27783_s_at'], dtype='object')"
      ]
     },
     "execution_count": 14,
     "metadata": {},
     "output_type": "execute_result"
    }
   ],
   "source": [
    "# remaining features\n",
    "trainx.columns"
   ]
  },
  {
   "cell_type": "code",
   "execution_count": 15,
   "id": "30958102",
   "metadata": {},
   "outputs": [
    {
     "name": "stdout",
     "output_type": "stream",
     "text": [
      "[1806, 2232, 4846, 6217]\n"
     ]
    },
    {
     "data": {
      "text/html": [
       "<div>\n",
       "<style scoped>\n",
       "    .dataframe tbody tr th:only-of-type {\n",
       "        vertical-align: middle;\n",
       "    }\n",
       "\n",
       "    .dataframe tbody tr th {\n",
       "        vertical-align: top;\n",
       "    }\n",
       "\n",
       "    .dataframe thead th {\n",
       "        text-align: right;\n",
       "    }\n",
       "</style>\n",
       "<table border=\"1\" class=\"dataframe\">\n",
       "  <thead>\n",
       "    <tr style=\"text-align: right;\">\n",
       "      <th></th>\n",
       "      <th>Gene Description</th>\n",
       "      <th>Gene Accession Number</th>\n",
       "    </tr>\n",
       "  </thead>\n",
       "  <tbody>\n",
       "    <tr>\n",
       "      <th>1806</th>\n",
       "      <td>Neuromedin B mRNA</td>\n",
       "      <td>M21551_rna1_at</td>\n",
       "    </tr>\n",
       "    <tr>\n",
       "      <th>2232</th>\n",
       "      <td>NUCLEOLYSIN TIA-1</td>\n",
       "      <td>M77142_at</td>\n",
       "    </tr>\n",
       "    <tr>\n",
       "      <th>4846</th>\n",
       "      <td>Zyxin</td>\n",
       "      <td>X95735_at</td>\n",
       "    </tr>\n",
       "    <tr>\n",
       "      <th>6217</th>\n",
       "      <td>ELA2 Elastatse 2; neutrophil</td>\n",
       "      <td>M27783_s_at</td>\n",
       "    </tr>\n",
       "  </tbody>\n",
       "</table>\n",
       "</div>"
      ],
      "text/plain": [
       "                  Gene Description Gene Accession Number\n",
       "1806             Neuromedin B mRNA        M21551_rna1_at\n",
       "2232             NUCLEOLYSIN TIA-1             M77142_at\n",
       "4846                         Zyxin             X95735_at\n",
       "6217  ELA2 Elastatse 2; neutrophil           M27783_s_at"
      ]
     },
     "execution_count": 15,
     "metadata": {},
     "output_type": "execute_result"
    }
   ],
   "source": [
    "# gene descriptions of remaining features\n",
    "gene_info = pd.read_csv('gene_info.csv', index_col=0)\n",
    "#gene_info.head()\n",
    "geneidx=[]\n",
    "for genenum in trainx.columns:\n",
    "    mask = gene_info['Gene Accession Number'].str.match(genenum)\n",
    "    geneidx.append(list(gene_info[mask].index)[0])\n",
    "    \n",
    "print(geneidx)\n",
    "gene_info.iloc[geneidx,:]"
   ]
  },
  {
   "cell_type": "code",
   "execution_count": null,
   "id": "f539020a",
   "metadata": {},
   "outputs": [],
   "source": []
  }
 ],
 "metadata": {
  "kernelspec": {
   "display_name": "Python 3 (ipykernel)",
   "language": "python",
   "name": "python3"
  },
  "language_info": {
   "codemirror_mode": {
    "name": "ipython",
    "version": 3
   },
   "file_extension": ".py",
   "mimetype": "text/x-python",
   "name": "python",
   "nbconvert_exporter": "python",
   "pygments_lexer": "ipython3",
   "version": "3.9.12"
  }
 },
 "nbformat": 4,
 "nbformat_minor": 5
}
